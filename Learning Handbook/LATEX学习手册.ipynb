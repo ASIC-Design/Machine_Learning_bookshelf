{
 "cells": [
  {
   "cell_type": "markdown",
   "metadata": {},
   "source": [
    "#  LATEX学习手册2.0版 "
   ]
  },
  {
   "cell_type": "markdown",
   "metadata": {},
   "source": [
    "## 一、行内显示，行间显示"
   ]
  },
  {
   "cell_type": "markdown",
   "metadata": {},
   "source": [
    "    行内显示示例：$f(x) = \\sum_{i=0}^{N}\\int_{a}^{b} g(t,i) \\text{ d}t$. (行内公式)"
   ]
  },
  {
   "cell_type": "markdown",
   "metadata": {},
   "source": [
    "> 行内显示示例：$f(x) = \\sum_{i=0}^{N}\\int_{a}^{b} g(t,i) \\text{ d}t$. (行内公式)"
   ]
  },
  {
   "cell_type": "markdown",
   "metadata": {},
   "source": [
    "    行间显示示例：$$f(x) = \\sum_{i=0}^{N}\\int_{a}^{b} g(t,i) \\text{ d}t\\tag{1}$$"
   ]
  },
  {
   "cell_type": "markdown",
   "metadata": {},
   "source": [
    "> 行间显示示例：$$f(x) = \\sum_{i=0}^{N}\\int_{a}^{b} g(t,i) \\text{ d}t\\tag{1}$$"
   ]
  },
  {
   "cell_type": "markdown",
   "metadata": {},
   "source": [
    "## 二、上标^{}和下标_{}"
   ]
  },
  {
   "cell_type": "markdown",
   "metadata": {},
   "source": [
    "    $$ a_1, x^2, e^{-at}, a^{3}_{ij}, e^{x^2} $$"
   ]
  },
  {
   "cell_type": "markdown",
   "metadata": {},
   "source": [
    "> $$a_1, x^2, e^{-at}, a^{3}_{ij}, e^{x^2}$$"
   ]
  },
  {
   "cell_type": "markdown",
   "metadata": {},
   "source": [
    "## 三、根号\\sqrt{}"
   ]
  },
  {
   "cell_type": "markdown",
   "metadata": {},
   "source": [
    "    $$\\sqrt{x}, \\sqrt{x_2\\sqrt{y}}, \\sqrt[3]{2}$$"
   ]
  },
  {
   "cell_type": "markdown",
   "metadata": {},
   "source": [
    "$$ \\sqrt{x}, \\sqrt{x_2\\sqrt{y}}, \\sqrt[3]{2} $$"
   ]
  },
  {
   "cell_type": "markdown",
   "metadata": {},
   "source": [
    "## 四、分号\\frac{}"
   ]
  },
  {
   "cell_type": "markdown",
   "metadata": {},
   "source": [
    "    $$\\frac{x_i}{k+1}, x^{\\frac{1}{k+1}}$$"
   ]
  },
  {
   "cell_type": "markdown",
   "metadata": {},
   "source": [
    "> $$ \\frac{x_i}{k+1}, x^{\\frac{1}{k+1}} $$"
   ]
  },
  {
   "cell_type": "markdown",
   "metadata": {},
   "source": [
    "## 五、求和\\sum{}、积分\\int{}、乘积\\prod{}"
   ]
  },
  {
   "cell_type": "markdown",
   "metadata": {},
   "source": [
    "    $$\\sum_{i=1}^{n}X_{i}, \\int_{0}^{\\frac{\\pi}{2}}sin({x})dx,\\prod_{i=1}^{n}p(x_{i})$$"
   ]
  },
  {
   "cell_type": "markdown",
   "metadata": {},
   "source": [
    "> $$ \\sum_{i=1}^{n}X_{i}, \\int_{0}^{\\frac{\\pi}{2}}sin({x})dx,\\prod_{i=1}^{n}p(x_{i}) $$"
   ]
  },
  {
   "cell_type": "markdown",
   "metadata": {},
   "source": [
    "## 六、属于\\in、不属于\\notin"
   ]
  },
  {
   "cell_type": "markdown",
   "metadata": {},
   "source": [
    "    $$ \\in, \\notin $$"
   ]
  },
  {
   "cell_type": "markdown",
   "metadata": {},
   "source": [
    "> $$ \\in, \\notin $$"
   ]
  },
  {
   "cell_type": "markdown",
   "metadata": {},
   "source": [
    "## 七、常用希腊字母速查"
   ]
  },
  {
   "cell_type": "markdown",
   "metadata": {},
   "source": [
    "1. 如果使用大写希腊字母，把命令首字母变成大写即可(部分）\n",
    "2. 如果使用斜体大写希腊字母，在命令前加var即可"
   ]
  },
  {
   "cell_type": "markdown",
   "metadata": {},
   "source": [
    "> 例子：\n",
    "> $$\n",
    " \\varGamma(x) = \\frac{\\int_{\\alpha}^{\\beta} g(t)(x-t)^2\\text{ d}t }{\\phi(x)\\sum_{i=0}^{N-1} \\omega_i} \\tag{2}\n",
    "$$"
   ]
  },
  {
   "cell_type": "markdown",
   "metadata": {},
   "source": [
    "    $$ \\alpha, A $$"
   ]
  },
  {
   "cell_type": "markdown",
   "metadata": {},
   "source": [
    "> $$ \\alpha, A $$"
   ]
  },
  {
   "cell_type": "markdown",
   "metadata": {},
   "source": [
    "    $$ \\beta, B $$"
   ]
  },
  {
   "cell_type": "markdown",
   "metadata": {},
   "source": [
    "> $$\\beta,B$$"
   ]
  },
  {
   "cell_type": "markdown",
   "metadata": {},
   "source": [
    "    $$ \\gamma,\\Gamma $$"
   ]
  },
  {
   "cell_type": "markdown",
   "metadata": {},
   "source": [
    "> $$\\gamma,\\Gamma$$"
   ]
  },
  {
   "cell_type": "markdown",
   "metadata": {},
   "source": [
    "    $$ \\delta,\\Delta $$"
   ]
  },
  {
   "cell_type": "markdown",
   "metadata": {},
   "source": [
    "> $$\\delta,\\Delta$$"
   ]
  },
  {
   "cell_type": "markdown",
   "metadata": {},
   "source": [
    "    $$ \\epsilon,E $$"
   ]
  },
  {
   "cell_type": "markdown",
   "metadata": {},
   "source": [
    "> $$\\epsilon,E$$"
   ]
  },
  {
   "cell_type": "markdown",
   "metadata": {},
   "source": [
    "    $$ \\zeta, Z $$"
   ]
  },
  {
   "cell_type": "markdown",
   "metadata": {},
   "source": [
    "> $$\\zeta, Z$$"
   ]
  },
  {
   "cell_type": "markdown",
   "metadata": {},
   "source": [
    "    $$ \\eta,H $$"
   ]
  },
  {
   "cell_type": "markdown",
   "metadata": {},
   "source": [
    "> $$\\eta,H$$"
   ]
  },
  {
   "cell_type": "markdown",
   "metadata": {},
   "source": [
    "    $$ \\theta ,\\vartheta ,\\Theta $$"
   ]
  },
  {
   "cell_type": "markdown",
   "metadata": {},
   "source": [
    "> $$\\theta ,\\vartheta ,\\Theta$$"
   ]
  },
  {
   "cell_type": "markdown",
   "metadata": {},
   "source": [
    "    $$ \\iota,I $$"
   ]
  },
  {
   "cell_type": "markdown",
   "metadata": {},
   "source": [
    "> $$\\iota,I$$"
   ]
  },
  {
   "cell_type": "markdown",
   "metadata": {},
   "source": [
    "    $$ \\kappa,K $$"
   ]
  },
  {
   "cell_type": "markdown",
   "metadata": {},
   "source": [
    "> $$\\kappa,K$$"
   ]
  },
  {
   "cell_type": "markdown",
   "metadata": {},
   "source": [
    "    $$ \\lambda,\\Lambda $$"
   ]
  },
  {
   "cell_type": "markdown",
   "metadata": {},
   "source": [
    "> $$\\lambda,\\Lambda$$"
   ]
  },
  {
   "cell_type": "markdown",
   "metadata": {},
   "source": [
    "    $$ \\mu, M, N $$"
   ]
  },
  {
   "cell_type": "markdown",
   "metadata": {},
   "source": [
    "> $$\\mu, M, N$$"
   ]
  },
  {
   "cell_type": "markdown",
   "metadata": {},
   "source": [
    "    $$ \\xi,\\Xi $$"
   ]
  },
  {
   "cell_type": "markdown",
   "metadata": {},
   "source": [
    "> $$\\xi,\\Xi$$"
   ]
  },
  {
   "cell_type": "markdown",
   "metadata": {},
   "source": [
    "    $$ o,O $$"
   ]
  },
  {
   "cell_type": "markdown",
   "metadata": {},
   "source": [
    "> $$o,O$$"
   ]
  },
  {
   "cell_type": "markdown",
   "metadata": {},
   "source": [
    "    $$ \\pi.\\Pi $$"
   ]
  },
  {
   "cell_type": "markdown",
   "metadata": {},
   "source": [
    "> $$\\pi.\\Pi$$"
   ]
  },
  {
   "cell_type": "markdown",
   "metadata": {},
   "source": [
    "    $$ \\rho ,\\varrho, P $$"
   ]
  },
  {
   "cell_type": "markdown",
   "metadata": {},
   "source": [
    "> $$ \\rho ,\\varrho, P $$"
   ]
  },
  {
   "cell_type": "markdown",
   "metadata": {},
   "source": [
    "    $$ \\sigma,\\Sigma $$"
   ]
  },
  {
   "cell_type": "markdown",
   "metadata": {},
   "source": [
    "> $$\\sigma,\\Sigma$$"
   ]
  },
  {
   "cell_type": "markdown",
   "metadata": {},
   "source": [
    "    $$ \\tau,T $$"
   ]
  },
  {
   "cell_type": "markdown",
   "metadata": {},
   "source": [
    "> $$\\tau,T$$"
   ]
  },
  {
   "cell_type": "markdown",
   "metadata": {},
   "source": [
    "    $$ \\upsilon ,\\Upsilon $$"
   ]
  },
  {
   "cell_type": "markdown",
   "metadata": {},
   "source": [
    "> $$\\upsilon ,\\Upsilon$$"
   ]
  },
  {
   "cell_type": "markdown",
   "metadata": {},
   "source": [
    "    $$ \\phi, \\varphi, \\Phi $$"
   ]
  },
  {
   "cell_type": "markdown",
   "metadata": {},
   "source": [
    "> $$\\phi, \\varphi, \\Phi$$"
   ]
  },
  {
   "cell_type": "markdown",
   "metadata": {},
   "source": [
    "    $$ \\chi,X $$"
   ]
  },
  {
   "cell_type": "markdown",
   "metadata": {},
   "source": [
    "> $$\\chi,X$$"
   ]
  },
  {
   "cell_type": "markdown",
   "metadata": {},
   "source": [
    "    $$ \\psi, \\Psi $$"
   ]
  },
  {
   "cell_type": "markdown",
   "metadata": {},
   "source": [
    "> $$\\psi,\\Psi$$"
   ]
  },
  {
   "cell_type": "markdown",
   "metadata": {},
   "source": [
    "    $$ \\omega, \\Omega $$"
   ]
  },
  {
   "cell_type": "markdown",
   "metadata": {},
   "source": [
    "> $$\\omega, \\Omega$$"
   ]
  },
  {
   "cell_type": "markdown",
   "metadata": {},
   "source": [
    "## 八、常用运算符号速查"
   ]
  },
  {
   "cell_type": "markdown",
   "metadata": {},
   "source": [
    "    $$ \\sum $$"
   ]
  },
  {
   "cell_type": "markdown",
   "metadata": {},
   "source": [
    "> $$ \\sum $$"
   ]
  },
  {
   "cell_type": "markdown",
   "metadata": {},
   "source": [
    "    $$ \\int $$"
   ]
  },
  {
   "cell_type": "markdown",
   "metadata": {},
   "source": [
    "> $$ \\int $$"
   ]
  },
  {
   "cell_type": "markdown",
   "metadata": {},
   "source": [
    "    $$ \\prod $$"
   ]
  },
  {
   "cell_type": "markdown",
   "metadata": {},
   "source": [
    "> $$ \\prod $$"
   ]
  },
  {
   "cell_type": "markdown",
   "metadata": {},
   "source": [
    "    $$ \\iint $$"
   ]
  },
  {
   "cell_type": "markdown",
   "metadata": {},
   "source": [
    "> $$ \\iint $$"
   ]
  },
  {
   "cell_type": "markdown",
   "metadata": {},
   "source": [
    "    $$ \\bigcup $$"
   ]
  },
  {
   "cell_type": "markdown",
   "metadata": {},
   "source": [
    "> $$ \\bigcup $$"
   ]
  },
  {
   "cell_type": "markdown",
   "metadata": {},
   "source": [
    "    $$ \\bigcap $$"
   ]
  },
  {
   "cell_type": "markdown",
   "metadata": {},
   "source": [
    "> $$ \\bigcap $$"
   ]
  },
  {
   "cell_type": "markdown",
   "metadata": {},
   "source": [
    "    $$ \\approx $$"
   ]
  },
  {
   "cell_type": "markdown",
   "metadata": {},
   "source": [
    "> $$ \\approx $$"
   ]
  },
  {
   "cell_type": "markdown",
   "metadata": {},
   "source": [
    "    乘号，点乘 $$ \\times, \\cdot $$ "
   ]
  },
  {
   "cell_type": "markdown",
   "metadata": {},
   "source": [
    "> $$ \\times, \\cdot $$"
   ]
  },
  {
   "cell_type": "markdown",
   "metadata": {},
   "source": [
    "## 九、符号速查"
   ]
  },
  {
   "cell_type": "markdown",
   "metadata": {},
   "source": [
    "    箭头 $$ \\uparrow, \\downarrow, \\leftarrow, \\rightarrow $$"
   ]
  },
  {
   "cell_type": "markdown",
   "metadata": {},
   "source": [
    "> $$ \\uparrow, \\downarrow, \\leftarrow, \\rightarrow $$"
   ]
  },
  {
   "cell_type": "markdown",
   "metadata": {},
   "source": [
    "    字母上面加符号、波浪线、横线、点号  \n",
    "    $$ \\widehat{x}, \\overline{x}, \\widetilde{x}, \\dot{x} $$"
   ]
  },
  {
   "cell_type": "markdown",
   "metadata": {},
   "source": [
    "> $$ \\widehat{x}, \\overline{x}, \\widetilde{x}, \\dot{x} $$"
   ]
  },
  {
   "cell_type": "markdown",
   "metadata": {},
   "source": [
    "    竖线（范数符号）$$ |x|,\\vert{x}\\vert,\\Vert{x}\\Vert $$"
   ]
  },
  {
   "cell_type": "markdown",
   "metadata": {},
   "source": [
    "> $$ |x|,\\vert{x}\\vert,\\Vert{x}\\Vert $$"
   ]
  },
  {
   "cell_type": "markdown",
   "metadata": {},
   "source": [
    "    按元素乘法符号 $$  \\odot,\\bigodot $$"
   ]
  },
  {
   "cell_type": "markdown",
   "metadata": {},
   "source": [
    "> $$  \\odot,\\bigodot $$"
   ]
  },
  {
   "cell_type": "markdown",
   "metadata": {},
   "source": [
    "    概率大P $$ \\mathbb{P} $$"
   ]
  },
  {
   "cell_type": "markdown",
   "metadata": {},
   "source": [
    "> $$ \\mathbb{P} $$"
   ]
  },
  {
   "cell_type": "markdown",
   "metadata": {},
   "source": [
    "## 十、矩阵表示"
   ]
  },
  {
   "cell_type": "markdown",
   "metadata": {},
   "source": [
    "    带大括号的矩阵 \\left … \\right\n",
    "    $$\n",
    "    \\left \\{\n",
    "    \\begin{matrix}\n",
    "    1&2&3\\\\\n",
    "    4&5&6\\\\\n",
    "    7&8&9\n",
    "    \\end{matrix}\n",
    "    \\right \\} \\tag{1}\n",
    "    $$"
   ]
  },
  {
   "cell_type": "markdown",
   "metadata": {},
   "source": [
    "> 带大括号的矩阵 \\left … \\right\n",
    "$$\n",
    "\\left \\{\n",
    "\\begin{matrix}\n",
    "1&2&3\\\\\n",
    "4&5&6\\\\\n",
    "7&8&9\n",
    "\\end{matrix}\n",
    "\\right \\} \\tag{1}\n",
    "$$"
   ]
  },
  {
   "cell_type": "markdown",
   "metadata": {},
   "source": [
    "    带中括号的矩阵 \\left … \\right\n",
    "    $$\n",
    "     \\left[\n",
    "     \\begin{matrix}\n",
    "       1 & 2 & 3 \\\\\n",
    "       4 & 5 & 6 \\\\\n",
    "       7 & 8 & 9\n",
    "      \\end{matrix}\n",
    "      \\right] \\tag{2}\n",
    "    $$\n"
   ]
  },
  {
   "cell_type": "markdown",
   "metadata": {},
   "source": [
    "> 带中括号的矩阵 \\left … \\right\n",
    "$$\n",
    " \\left[\n",
    " \\begin{matrix}\n",
    "   1 & 2 & 3 \\\\\n",
    "   4 & 5 & 6 \\\\\n",
    "   7 & 8 & 9\n",
    "  \\end{matrix}\n",
    "  \\right] \\tag{2}\n",
    "$$\n"
   ]
  },
  {
   "cell_type": "markdown",
   "metadata": {},
   "source": [
    "    行列式\n",
    "    $$\n",
    "     \\begin{vmatrix}\n",
    "       1 & 2 & 3 \\\\\n",
    "       4 & 5 & 6 \\\\\n",
    "       7 & 8 & 9\n",
    "      \\end{vmatrix} \\tag{3}\n",
    "    $$"
   ]
  },
  {
   "cell_type": "markdown",
   "metadata": {},
   "source": [
    "> 行列式\n",
    "$$\n",
    " \\begin{vmatrix}\n",
    "   1 & 2 & 3 \\\\\n",
    "   4 & 5 & 6 \\\\\n",
    "   7 & 8 & 9\n",
    "  \\end{vmatrix} \\tag{3}\n",
    "$$"
   ]
  }
 ],
 "metadata": {
  "kernelspec": {
   "display_name": "Python 3",
   "language": "python",
   "name": "python3"
  },
  "language_info": {
   "codemirror_mode": {
    "name": "ipython",
    "version": 3
   },
   "file_extension": ".py",
   "mimetype": "text/x-python",
   "name": "python",
   "nbconvert_exporter": "python",
   "pygments_lexer": "ipython3",
   "version": "3.6.5"
  }
 },
 "nbformat": 4,
 "nbformat_minor": 2
}
