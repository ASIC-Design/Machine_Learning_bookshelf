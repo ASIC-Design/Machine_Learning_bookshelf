{
 "cells": [
  {
   "cell_type": "markdown",
   "metadata": {},
   "source": [
    "# $$MarkDown学习手册$$"
   ]
  },
  {
   "cell_type": "markdown",
   "metadata": {},
   "source": [
    "----\n",
    "# 标题"
   ]
  },
  {
   "cell_type": "markdown",
   "metadata": {},
   "source": [
    "    # 这是 H1\n",
    "    ## 这是 H2\n",
    "    ### 这是 H3\n",
    "    #### 这是 H4\n",
    "    ##### 这是 H5\n",
    "    ###### 这是 H6"
   ]
  },
  {
   "cell_type": "markdown",
   "metadata": {},
   "source": [
    "# 这是 H1\n",
    "## 这是 H2\n",
    "### 这是 H3\n",
    "#### 这是 H4\n",
    "##### 这是 H5\n",
    "###### 这是 H6"
   ]
  },
  {
   "cell_type": "markdown",
   "metadata": {},
   "source": [
    "---\n",
    "# 段落和换行"
   ]
  },
  {
   "cell_type": "markdown",
   "metadata": {},
   "source": [
    "+ 一个 Markdown 段落是由一个或多个连续的文本行组成，它的前后要有一个以上的空行（空行的定义是显示上看起来像是空的，便会被视为空行。\n",
    "+ 比方说，若某一行只包含空格和制表符，则该行也会被视为空行）。普通段落不该用空格或制表符来缩进。\n",
    "+ 如果你确实想要依赖 Markdown 来插入 换行 标签的话，在插入处先按入两个以上的空格然后回车。\n",
    "+ 但是简单地「每个换行都转换为 换行的方法在 Markdown 中并不适合， Markdown 中 email 式的 区块引用 和多段落的 列表 在使用换行来排版的时候，不但更好用，还更方便阅读。"
   ]
  },
  {
   "cell_type": "markdown",
   "metadata": {},
   "source": [
    "---\n",
    "# 区块引用"
   ]
  },
  {
   "cell_type": "markdown",
   "metadata": {},
   "source": [
    "> Markdown 标记区块引用是使用类似 email 中用 > 的引用方式。如果你还熟悉在 email 信件中的引言部分，你就知道怎么在 Markdown 文件中建立一个区块引用，那会看起来像是你自己先断好行，然后在每行的最前面加上 > ："
   ]
  },
  {
   "cell_type": "markdown",
   "metadata": {},
   "source": [
    "    > This is a blockquote with two paragraphs. Lorem ipsum dolor sit amet,\n",
    "    > consectetuer adipiscing elit. Aliquam hendrerit mi posuere lectus.\n",
    "    > Vestibulum enim wisi, viverra nec, fringilla in, laoreet vitae, risus.\n",
    "    > \n",
    "    > Donec sit amet nisl. Aliquam semper ipsum sit amet velit. Suspendisse\n",
    "    > id sem consectetuer libero luctus adipiscing."
   ]
  },
  {
   "cell_type": "markdown",
   "metadata": {},
   "source": [
    "> This is a blockquote with two paragraphs. Lorem ipsum dolor sit amet,\n",
    "> consectetuer adipiscing elit. Aliquam hendrerit mi posuere lectus.\n",
    "> Vestibulum enim wisi, viverra nec, fringilla in, laoreet vitae, risus.\n",
    "> \n",
    "> Donec sit amet nisl. Aliquam semper ipsum sit amet velit. Suspendisse\n",
    "> id sem consectetuer libero luctus adipiscing."
   ]
  },
  {
   "cell_type": "markdown",
   "metadata": {},
   "source": [
    "> 区块引用可以嵌套（例如：引用内的引用），只要根据层次加上不同数量的 > ："
   ]
  },
  {
   "cell_type": "markdown",
   "metadata": {},
   "source": [
    "    > This is the first level of quoting.\n",
    "    >\n",
    "    > > This is nested blockquote.\n",
    "    >\n",
    "    > Back to the first level."
   ]
  },
  {
   "cell_type": "markdown",
   "metadata": {},
   "source": [
    "> This is the first level of quoting.\n",
    ">\n",
    "> > This is nested blockquote.\n",
    ">\n",
    "> Back to the first level."
   ]
  },
  {
   "cell_type": "markdown",
   "metadata": {},
   "source": [
    "> 引用的区块内也可以使用其他的 Markdown 语法，包括标题、列表、代码区块等："
   ]
  },
  {
   "cell_type": "markdown",
   "metadata": {},
   "source": [
    "    > ## 这是一个标题。\n",
    "    > \n",
    "    > 1.   这是第一行列表项。\n",
    "    > 2.   这是第二行列表项。\n",
    "    > \n",
    "    > 给出一些例子代码：\n",
    "    > \n",
    "    >     return shell_exec(\"echo $input | $markdown_script\");"
   ]
  },
  {
   "cell_type": "markdown",
   "metadata": {},
   "source": [
    "> ## 这是一个标题。\n",
    "> \n",
    "> 1.   这是第一行列表项。\n",
    "> 2.   这是第二行列表项。\n",
    "> \n",
    "> 给出一些例子代码：\n",
    "> \n",
    ">     return shell_exec(\"echo $input | $markdown_script\");"
   ]
  },
  {
   "cell_type": "markdown",
   "metadata": {},
   "source": [
    "---\n",
    "# 列表"
   ]
  },
  {
   "cell_type": "markdown",
   "metadata": {},
   "source": [
    "    无序列表使用星号、加号或是减号作为列表标记：\n",
    "    *   Red\n",
    "    *   Green\n",
    "    *   Blue\n",
    "    +   Red\n",
    "    +   Green\n",
    "    +   Blue\n",
    "    -   Red\n",
    "    -   Green\n",
    "    -   Blue"
   ]
  },
  {
   "cell_type": "markdown",
   "metadata": {},
   "source": [
    "无序列表使用星号、加号或是减号作为列表标记：\n",
    "*   Red\n",
    "*   Green\n",
    "*   Blue\n",
    "+   Red\n",
    "+   Green\n",
    "+   Blue\n",
    "-   Red\n",
    "-   Green\n",
    "-   Blue"
   ]
  },
  {
   "cell_type": "markdown",
   "metadata": {},
   "source": [
    "    有序列表则使用数字接着一个英文句点：\n",
    "    1.  Bird\n",
    "    2.  McHale\n",
    "    3.  Parish"
   ]
  },
  {
   "cell_type": "markdown",
   "metadata": {},
   "source": [
    "有序列表则使用数字接着一个英文句点：\n",
    "1.  Bird\n",
    "2.  McHale\n",
    "3.  Parish"
   ]
  },
  {
   "cell_type": "markdown",
   "metadata": {},
   "source": [
    "    如果列表项目间用空行分开，在输出 HTML 时 Markdown 就会将项目内容用 <p> 标签包起来，举例来说：\n",
    "    *   Bird\n",
    "\n",
    "    *   Magic\n",
    "\n",
    "    会被转换为：\n",
    "    <ul>\n",
    "    <li>Bird</li>\n",
    "    <li>Magic</li>\n",
    "    </ul>"
   ]
  },
  {
   "cell_type": "markdown",
   "metadata": {},
   "source": [
    "    列表项目可以包含多个段落，每个项目下的段落都必须缩进 4 个空格或是 1 个制表符：\n",
    "    1.  This is a list item with two paragraphs. Lorem ipsum dolor\n",
    "        sit amet, consectetuer adipiscing elit. Aliquam hendrerit\n",
    "        mi posuere lectus.\n",
    "\n",
    "        Vestibulum enim wisi, viverra nec, fringilla in, laoreet\n",
    "        vitae, risus. Donec sit amet nisl. Aliquam semper ipsum\n",
    "        sit amet velit.\n",
    "\n",
    "    2.  Suspendisse id sem consectetuer libero luctus adipiscing."
   ]
  },
  {
   "cell_type": "markdown",
   "metadata": {},
   "source": [
    "1.  This is a list item with two paragraphs. Lorem ipsum dolor\n",
    "    sit amet, consectetuer adipiscing elit. Aliquam hendrerit\n",
    "    mi posuere lectus.\n",
    "\n",
    "    Vestibulum enim wisi, viverra nec, fringilla in, laoreet\n",
    "    vitae, risus. Donec sit amet nisl. Aliquam semper ipsum\n",
    "    sit amet velit.\n",
    "\n",
    "2.  Suspendisse id sem consectetuer libero luctus adipiscing."
   ]
  },
  {
   "cell_type": "markdown",
   "metadata": {},
   "source": [
    "    如果要在列表项目内放进引用，那 > 就需要缩进：\n",
    "    *   A list item with a blockquote:\n",
    "\n",
    "        > This is a blockquote\n",
    "\n",
    "        > inside a list item."
   ]
  },
  {
   "cell_type": "markdown",
   "metadata": {},
   "source": [
    "*   A list item with a blockquote:\n",
    "\n",
    "    > This is a blockquote\n",
    "    \n",
    "    > inside a list item."
   ]
  },
  {
   "cell_type": "markdown",
   "metadata": {},
   "source": [
    "---\n",
    "# 代码区块"
   ]
  },
  {
   "cell_type": "markdown",
   "metadata": {},
   "source": [
    "    要在 Markdown 中建立代码区块很简单，只要简单地缩进 4 个空格或是 1 个制表符就可以，例如，下面的输入：  \n",
    "    这是一个普通段落：\n",
    "\n",
    "        这是一个代码区块。"
   ]
  },
  {
   "cell_type": "markdown",
   "metadata": {},
   "source": [
    "这是一个普通段落：\n",
    "\n",
    "    这是一个代码区块。"
   ]
  },
  {
   "cell_type": "markdown",
   "metadata": {},
   "source": [
    "---\n",
    "# 分割线"
   ]
  },
  {
   "cell_type": "markdown",
   "metadata": {},
   "source": [
    "> 你可以在一行中用三个以上的星号、减号、底线来建立一个分隔线，行内不能有其他东西。你也可以在星号或是减号中间插入空格。下面每种写法都可以建立分隔线："
   ]
  },
  {
   "cell_type": "raw",
   "metadata": {},
   "source": [
    "    * * *\n",
    "\n",
    "    ***\n",
    "\n",
    "    *****\n",
    "\n",
    "    - - -\n",
    "\n",
    "    -----"
   ]
  },
  {
   "cell_type": "markdown",
   "metadata": {},
   "source": [
    "---\n",
    "# 超链接"
   ]
  },
  {
   "cell_type": "markdown",
   "metadata": {},
   "source": [
    "    内联方式\n",
    "\n",
    "    This is an [example link](http://example.com/).\n",
    "\n",
    "> This is an [example link](http://example.com/)."
   ]
  },
  {
   "cell_type": "markdown",
   "metadata": {},
   "source": [
    "    引用方式\n",
    "\n",
    "    I get 10 times more traffic from [Google][1] than from [Yahoo][2] or [MSN][3]. \n",
    "    [1]: http://google.com/        \"Google\" \n",
    "    [2]: http://search.yahoo.com/  \"Yahoo Search\" \n",
    "    [3]: http://search.msn.com/    \"MSN Search\"\n",
    "\n",
    "> I get 10 times more traffic from [Google][1] than from [Yahoo][2] or [MSN][3].  \n",
    "\n",
    "[1]: http://google.com/        \"Google\" \n",
    "[2]: http://search.yahoo.com/  \"Yahoo Search\" \n",
    "[3]: http://search.msn.com/    \"MSN Search\""
   ]
  },
  {
   "cell_type": "markdown",
   "metadata": {},
   "source": [
    "---\n",
    "# 强调"
   ]
  },
  {
   "cell_type": "markdown",
   "metadata": {},
   "source": [
    "    *斜体*\n",
    "    **粗体**\n",
    "    _斜体_\n",
    "    __粗体__"
   ]
  },
  {
   "cell_type": "markdown",
   "metadata": {},
   "source": [
    "*斜体*\n",
    "**粗体**\n",
    "_斜体_\n",
    "__粗体__"
   ]
  },
  {
   "cell_type": "markdown",
   "metadata": {},
   "source": [
    "# 代码"
   ]
  },
  {
   "cell_type": "markdown",
   "metadata": {},
   "source": [
    "    def foo():\n",
    "        if not 0:\n",
    "            return 1"
   ]
  },
  {
   "cell_type": "markdown",
   "metadata": {},
   "source": [
    "```python\n",
    "def foo():\n",
    "    if not 0:\n",
    "        return 1\n",
    "```"
   ]
  }
 ],
 "metadata": {
  "kernelspec": {
   "display_name": "Python 3",
   "language": "python",
   "name": "python3"
  },
  "language_info": {
   "codemirror_mode": {
    "name": "ipython",
    "version": 3
   },
   "file_extension": ".py",
   "mimetype": "text/x-python",
   "name": "python",
   "nbconvert_exporter": "python",
   "pygments_lexer": "ipython3",
   "version": "3.6.5"
  }
 },
 "nbformat": 4,
 "nbformat_minor": 2
}
