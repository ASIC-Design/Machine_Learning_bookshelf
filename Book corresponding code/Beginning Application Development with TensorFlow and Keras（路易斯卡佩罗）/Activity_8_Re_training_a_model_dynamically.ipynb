{
 "cells": [
  {
   "cell_type": "markdown",
   "metadata": {},
   "source": [
    "#### Magic Commands\n",
    "Magic commands (those that start with `%`) are commands that modify a configuration of Jupyter Notebooks. A number of magic commands are available by default (see list [here](http://ipython.readthedocs.io/en/stable/interactive/magics.html))--and many more can be added with extensions. The magic command added in this section allows `matplotlib` to display our plots directly on the browser instead of having to save them on a local file."
   ]
  },
  {
   "cell_type": "code",
   "execution_count": 1,
   "metadata": {},
   "outputs": [],
   "source": [
    "%matplotlib inline"
   ]
  },
  {
   "cell_type": "markdown",
   "metadata": {},
   "source": [
    "# Activity 8: Re-training a model dynamically\n",
    "In this activity, we re-train our model every time new data is available.\n",
    "\n",
    "First, we start by importing `cryptonic`. Cryptonic is a simple software application developed for this course that implements all the steps up to this section using Python classes and modules. Consider Cryptonic a template on how you could develop similar applications."
   ]
  },
  {
   "cell_type": "code",
   "execution_count": 2,
   "metadata": {},
   "outputs": [
    {
     "name": "stderr",
     "output_type": "stream",
     "text": [
      "D:\\Anaconda3\\envs\\machinelearn\\lib\\site-packages\\h5py\\__init__.py:36: FutureWarning: Conversion of the second argument of issubdtype from `float` to `np.floating` is deprecated. In future, it will be treated as `np.float64 == np.dtype(float).type`.\n",
      "  from ._conv import register_converters as _register_converters\n",
      "Using TensorFlow backend.\n"
     ]
    }
   ],
   "source": [
    "import cryptonic\n",
    "import pandas as pd"
   ]
  },
  {
   "cell_type": "code",
   "execution_count": 3,
   "metadata": {},
   "outputs": [],
   "source": [
    "from tqdm import tqdm_notebook"
   ]
  },
  {
   "cell_type": "code",
   "execution_count": 4,
   "metadata": {},
   "outputs": [],
   "source": [
    "import matplotlib.pyplot as plt"
   ]
  },
  {
   "cell_type": "code",
   "execution_count": 5,
   "metadata": {},
   "outputs": [],
   "source": [
    "plt.style.use('seaborn-white')"
   ]
  },
  {
   "cell_type": "code",
   "execution_count": 6,
   "metadata": {},
   "outputs": [],
   "source": [
    "from cryptonic.models.model import Model\n",
    "from cryptonic.markets.coinmarketcap import CoinMarketCap\n",
    "from cryptonic.models import normalizations"
   ]
  },
  {
   "cell_type": "markdown",
   "metadata": {},
   "source": [
    "### Fecthing Real-time Data\n",
    "Throughout this project we have been using data originally provided by [CoinMarketCap](https://coinmarketcap.com/). We have created an interface for collecting both real-time and historical data as as part of `cryptonic`: the class `CoinMarketCap()`."
   ]
  },
  {
   "cell_type": "code",
   "execution_count": 7,
   "metadata": {},
   "outputs": [
    {
     "name": "stdout",
     "output_type": "stream",
     "text": [
      "\n",
      "\n",
      "        Crypto-currency data comes from the website CoinMarketCap.\n",
      "        CoinMarketCap is can be accessed at: https://coinmarketcap.com/\n",
      "\n",
      "        The permission to use the data is available on their FAQ\n",
      "\n",
      "            https://coinmarketcap.com/faq/\n",
      "\n",
      "        and reads:\n",
      "\n",
      "            \"Q: Am I allowed to use content (screenshots, data, graphs, etc.) \n",
      "            for one of my personal projects and/or commercial use?\n",
      "\n",
      "            R: Absolutely! Feel free to use any content as you see fit. \n",
      "            We kindly ask that you cite us as a source.\"\n",
      "        \n",
      "        \n"
     ]
    }
   ],
   "source": [
    "print(CoinMarketCap())"
   ]
  },
  {
   "cell_type": "markdown",
   "metadata": {},
   "source": [
    "Our model is designed to work with daily data. Let's go ahead and collect historic daily data from CoinMarketCap (this is the same data used previously)."
   ]
  },
  {
   "cell_type": "code",
   "execution_count": 8,
   "metadata": {},
   "outputs": [],
   "source": [
    "historic_data = CoinMarketCap.historic()"
   ]
  },
  {
   "cell_type": "code",
   "execution_count": 9,
   "metadata": {},
   "outputs": [],
   "source": [
    "# need to reverse dataframe so that earliest is first\n",
    "historic_data = historic_data.iloc[::-1].reset_index(drop=True)"
   ]
  },
  {
   "cell_type": "code",
   "execution_count": 10,
   "metadata": {},
   "outputs": [
    {
     "data": {
      "text/html": [
       "<div>\n",
       "<style scoped>\n",
       "    .dataframe tbody tr th:only-of-type {\n",
       "        vertical-align: middle;\n",
       "    }\n",
       "\n",
       "    .dataframe tbody tr th {\n",
       "        vertical-align: top;\n",
       "    }\n",
       "\n",
       "    .dataframe thead th {\n",
       "        text-align: right;\n",
       "    }\n",
       "</style>\n",
       "<table border=\"1\" class=\"dataframe\">\n",
       "  <thead>\n",
       "    <tr style=\"text-align: right;\">\n",
       "      <th></th>\n",
       "      <th>date</th>\n",
       "      <th>open</th>\n",
       "      <th>high</th>\n",
       "      <th>low</th>\n",
       "      <th>close</th>\n",
       "      <th>volume</th>\n",
       "      <th>market_cap</th>\n",
       "    </tr>\n",
       "  </thead>\n",
       "  <tbody>\n",
       "    <tr>\n",
       "      <th>0</th>\n",
       "      <td>2013-04-28</td>\n",
       "      <td>135.30</td>\n",
       "      <td>135.98</td>\n",
       "      <td>132.10</td>\n",
       "      <td>134.21</td>\n",
       "      <td>None</td>\n",
       "      <td>1500519936</td>\n",
       "    </tr>\n",
       "    <tr>\n",
       "      <th>1</th>\n",
       "      <td>2013-04-29</td>\n",
       "      <td>134.44</td>\n",
       "      <td>147.49</td>\n",
       "      <td>134.00</td>\n",
       "      <td>144.54</td>\n",
       "      <td>None</td>\n",
       "      <td>1491160064</td>\n",
       "    </tr>\n",
       "    <tr>\n",
       "      <th>2</th>\n",
       "      <td>2013-04-30</td>\n",
       "      <td>144.00</td>\n",
       "      <td>146.93</td>\n",
       "      <td>134.05</td>\n",
       "      <td>139.00</td>\n",
       "      <td>None</td>\n",
       "      <td>1597779968</td>\n",
       "    </tr>\n",
       "  </tbody>\n",
       "</table>\n",
       "</div>"
      ],
      "text/plain": [
       "         date    open    high     low   close volume  market_cap\n",
       "0  2013-04-28  135.30  135.98  132.10  134.21   None  1500519936\n",
       "1  2013-04-29  134.44  147.49  134.00  144.54   None  1491160064\n",
       "2  2013-04-30  144.00  146.93  134.05  139.00   None  1597779968"
      ]
     },
     "execution_count": 10,
     "metadata": {},
     "output_type": "execute_result"
    }
   ],
   "source": [
    "historic_data.head(3)"
   ]
  },
  {
   "cell_type": "markdown",
   "metadata": {},
   "source": [
    "The data contains practically the same variables from our earlier dataset. However, much of the data comes from an earlier period. Recent Bitcoin prices have gained a lot of volatility if compared to the prices of a few years ago. Before using this data in our model, let's make sure to filter it to dates after January 1, 2017."
   ]
  },
  {
   "cell_type": "code",
   "execution_count": 11,
   "metadata": {},
   "outputs": [],
   "source": [
    "#\n",
    "#  Using the Pandas API, filter the dataframe\n",
    "#  for observations from 2017 only. \n",
    "# \n",
    "#  Hint: use the `date` column / variable.\n",
    "#\n",
    "model_data = historic_data[historic_data['date'] >= '2017-01-01']"
   ]
  },
  {
   "cell_type": "markdown",
   "metadata": {},
   "source": [
    "### The `Model()` Class\n",
    "We have also created the class `Model()` which compiles all the code we have written so far. We will use that class to build, train, and evaluate our model."
   ]
  },
  {
   "cell_type": "code",
   "execution_count": 12,
   "metadata": {},
   "outputs": [],
   "source": [
    "M = Model(data=model_data,\n",
    "          variable='close',\n",
    "          predicted_period_size=7)"
   ]
  },
  {
   "cell_type": "code",
   "execution_count": 13,
   "metadata": {},
   "outputs": [
    {
     "data": {
      "text/plain": [
       "<keras.models.Sequential at 0xdc59be0>"
      ]
     },
     "execution_count": 13,
     "metadata": {},
     "output_type": "execute_result"
    }
   ],
   "source": [
    "M.build()"
   ]
  },
  {
   "cell_type": "code",
   "execution_count": 14,
   "metadata": {},
   "outputs": [
    {
     "name": "stdout",
     "output_type": "stream",
     "text": [
      "Epoch 1/100\n",
      "1/1 [==============================] - 1s 577ms/step - loss: 0.0057\n",
      "Epoch 2/100\n",
      "1/1 [==============================] - 0s 18ms/step - loss: 0.0046\n",
      "Epoch 3/100\n",
      "1/1 [==============================] - 0s 21ms/step - loss: 0.0040\n",
      "Epoch 4/100\n",
      "1/1 [==============================] - 0s 17ms/step - loss: 0.0035\n",
      "Epoch 5/100\n",
      "1/1 [==============================] - 0s 17ms/step - loss: 0.0031\n",
      "Epoch 6/100\n",
      "1/1 [==============================] - 0s 20ms/step - loss: 0.0028\n",
      "Epoch 7/100\n",
      "1/1 [==============================] - 0s 16ms/step - loss: 0.0025\n",
      "Epoch 8/100\n",
      "1/1 [==============================] - 0s 17ms/step - loss: 0.0022\n",
      "Epoch 9/100\n",
      "1/1 [==============================] - 0s 17ms/step - loss: 0.0020\n",
      "Epoch 10/100\n",
      "1/1 [==============================] - 0s 17ms/step - loss: 0.0018\n",
      "Epoch 11/100\n",
      "1/1 [==============================] - 0s 18ms/step - loss: 0.0017\n",
      "Epoch 12/100\n",
      "1/1 [==============================] - 0s 18ms/step - loss: 0.0015\n",
      "Epoch 13/100\n",
      "1/1 [==============================] - 0s 20ms/step - loss: 0.0014\n",
      "Epoch 14/100\n",
      "1/1 [==============================] - 0s 17ms/step - loss: 0.0012\n",
      "Epoch 15/100\n",
      "1/1 [==============================] - 0s 17ms/step - loss: 0.0011\n",
      "Epoch 16/100\n",
      "1/1 [==============================] - 0s 20ms/step - loss: 0.0010\n",
      "Epoch 17/100\n",
      "1/1 [==============================] - 0s 16ms/step - loss: 9.4727e-04\n",
      "Epoch 18/100\n",
      "1/1 [==============================] - 0s 21ms/step - loss: 8.6410e-04\n",
      "Epoch 19/100\n",
      "1/1 [==============================] - 0s 20ms/step - loss: 7.8790e-04\n",
      "Epoch 20/100\n",
      "1/1 [==============================] - 0s 16ms/step - loss: 7.1792e-04\n",
      "Epoch 21/100\n",
      "1/1 [==============================] - 0s 23ms/step - loss: 6.5352e-04\n",
      "Epoch 22/100\n",
      "1/1 [==============================] - 0s 14ms/step - loss: 5.9417e-04\n",
      "Epoch 23/100\n",
      "1/1 [==============================] - 0s 15ms/step - loss: 5.3942e-04\n",
      "Epoch 24/100\n",
      "1/1 [==============================] - 0s 14ms/step - loss: 4.8890e-04\n",
      "Epoch 25/100\n",
      "1/1 [==============================] - 0s 16ms/step - loss: 4.4228e-04\n",
      "Epoch 26/100\n",
      "1/1 [==============================] - 0s 19ms/step - loss: 3.9927e-04\n",
      "Epoch 27/100\n",
      "1/1 [==============================] - 0s 21ms/step - loss: 3.5963e-04\n",
      "Epoch 28/100\n",
      "1/1 [==============================] - 0s 15ms/step - loss: 3.2312e-04\n",
      "Epoch 29/100\n",
      "1/1 [==============================] - 0s 15ms/step - loss: 2.8954e-04\n",
      "Epoch 30/100\n",
      "1/1 [==============================] - 0s 19ms/step - loss: 2.5869e-04\n",
      "Epoch 31/100\n",
      "1/1 [==============================] - 0s 16ms/step - loss: 2.3039e-04\n",
      "Epoch 32/100\n",
      "1/1 [==============================] - 0s 20ms/step - loss: 2.0448e-04\n",
      "Epoch 33/100\n",
      "1/1 [==============================] - 0s 17ms/step - loss: 1.8079e-04\n",
      "Epoch 34/100\n",
      "1/1 [==============================] - 0s 18ms/step - loss: 1.5918e-04\n",
      "Epoch 35/100\n",
      "1/1 [==============================] - 0s 19ms/step - loss: 1.3951e-04\n",
      "Epoch 36/100\n",
      "1/1 [==============================] - 0s 18ms/step - loss: 1.2167e-04\n",
      "Epoch 37/100\n",
      "1/1 [==============================] - 0s 14ms/step - loss: 1.0554e-04\n",
      "Epoch 38/100\n",
      "1/1 [==============================] - 0s 18ms/step - loss: 9.1008e-05\n",
      "Epoch 39/100\n",
      "1/1 [==============================] - 0s 17ms/step - loss: 7.7976e-05\n",
      "Epoch 40/100\n",
      "1/1 [==============================] - 0s 15ms/step - loss: 6.6348e-05\n",
      "Epoch 41/100\n",
      "1/1 [==============================] - 0s 16ms/step - loss: 5.6033e-05\n",
      "Epoch 42/100\n",
      "1/1 [==============================] - 0s 14ms/step - loss: 4.6941e-05\n",
      "Epoch 43/100\n",
      "1/1 [==============================] - 0s 14ms/step - loss: 3.8984e-05\n",
      "Epoch 44/100\n",
      "1/1 [==============================] - 0s 14ms/step - loss: 3.2075e-05\n",
      "Epoch 45/100\n",
      "1/1 [==============================] - 0s 15ms/step - loss: 2.6126e-05\n",
      "Epoch 46/100\n",
      "1/1 [==============================] - 0s 18ms/step - loss: 2.1053e-05\n",
      "Epoch 47/100\n",
      "1/1 [==============================] - 0s 18ms/step - loss: 1.6770e-05\n",
      "Epoch 48/100\n",
      "1/1 [==============================] - 0s 14ms/step - loss: 1.3194e-05\n",
      "Epoch 49/100\n",
      "1/1 [==============================] - 0s 14ms/step - loss: 1.0244e-05\n",
      "Epoch 50/100\n",
      "1/1 [==============================] - 0s 15ms/step - loss: 7.8409e-06\n",
      "Epoch 51/100\n",
      "1/1 [==============================] - 0s 15ms/step - loss: 5.9114e-06\n",
      "Epoch 52/100\n",
      "1/1 [==============================] - 0s 14ms/step - loss: 4.3849e-06\n",
      "Epoch 53/100\n",
      "1/1 [==============================] - 0s 17ms/step - loss: 3.1966e-06\n",
      "Epoch 54/100\n",
      "1/1 [==============================] - 0s 14ms/step - loss: 2.2876e-06\n",
      "Epoch 55/100\n",
      "1/1 [==============================] - 0s 17ms/step - loss: 1.6050e-06\n",
      "Epoch 56/100\n",
      "1/1 [==============================] - 0s 15ms/step - loss: 1.1026e-06\n",
      "Epoch 57/100\n",
      "1/1 [==============================] - 0s 19ms/step - loss: 7.4056e-07\n",
      "Epoch 58/100\n",
      "1/1 [==============================] - 0s 18ms/step - loss: 4.8562e-07\n",
      "Epoch 59/100\n",
      "1/1 [==============================] - 0s 13ms/step - loss: 3.1037e-07\n",
      "Epoch 60/100\n",
      "1/1 [==============================] - 0s 14ms/step - loss: 1.9302e-07\n",
      "Epoch 61/100\n",
      "1/1 [==============================] - 0s 15ms/step - loss: 1.1659e-07\n",
      "Epoch 62/100\n",
      "1/1 [==============================] - 0s 13ms/step - loss: 6.8266e-08\n",
      "Epoch 63/100\n",
      "1/1 [==============================] - 0s 15ms/step - loss: 3.8697e-08\n",
      "Epoch 64/100\n",
      "1/1 [==============================] - 0s 18ms/step - loss: 2.1504e-08\n",
      "Epoch 65/100\n",
      "1/1 [==============================] - 0s 17ms/step - loss: 1.4773e-08\n",
      "Epoch 66/100\n",
      "1/1 [==============================] - 0s 16ms/step - loss: 4.4828e-08\n",
      "Epoch 67/100\n",
      "1/1 [==============================] - 0s 14ms/step - loss: 4.1620e-07\n",
      "Epoch 68/100\n",
      "1/1 [==============================] - 0s 14ms/step - loss: 3.0120e-06\n",
      "Epoch 69/100\n",
      "1/1 [==============================] - 0s 16ms/step - loss: 7.9916e-06\n",
      "Epoch 70/100\n",
      "1/1 [==============================] - 0s 13ms/step - loss: 6.9289e-06\n",
      "Epoch 71/100\n",
      "1/1 [==============================] - 0s 12ms/step - loss: 3.5072e-06\n",
      "Epoch 72/100\n",
      "1/1 [==============================] - 0s 14ms/step - loss: 1.6460e-06\n",
      "Epoch 73/100\n",
      "1/1 [==============================] - 0s 19ms/step - loss: 8.8001e-07\n",
      "Epoch 74/100\n",
      "1/1 [==============================] - 0s 18ms/step - loss: 5.8072e-07\n",
      "Epoch 75/100\n",
      "1/1 [==============================] - 0s 17ms/step - loss: 4.7660e-07\n",
      "Epoch 76/100\n",
      "1/1 [==============================] - 0s 16ms/step - loss: 4.9039e-07\n",
      "Epoch 77/100\n",
      "1/1 [==============================] - 0s 14ms/step - loss: 6.1208e-07\n",
      "Epoch 78/100\n",
      "1/1 [==============================] - 0s 17ms/step - loss: 9.1186e-07\n",
      "Epoch 79/100\n",
      "1/1 [==============================] - 0s 14ms/step - loss: 1.5109e-06\n",
      "Epoch 80/100\n",
      "1/1 [==============================] - 0s 14ms/step - loss: 2.6383e-06\n",
      "Epoch 81/100\n",
      "1/1 [==============================] - 0s 16ms/step - loss: 4.1685e-06\n",
      "Epoch 82/100\n",
      "1/1 [==============================] - 0s 18ms/step - loss: 5.4834e-06\n",
      "Epoch 83/100\n",
      "1/1 [==============================] - 0s 13ms/step - loss: 5.2744e-06\n",
      "Epoch 84/100\n",
      "1/1 [==============================] - 0s 18ms/step - loss: 4.3413e-06\n",
      "Epoch 85/100\n",
      "1/1 [==============================] - 0s 18ms/step - loss: 3.1149e-06\n",
      "Epoch 86/100\n",
      "1/1 [==============================] - 0s 20ms/step - loss: 2.3650e-06\n",
      "Epoch 87/100\n",
      "1/1 [==============================] - 0s 15ms/step - loss: 1.8645e-06\n",
      "Epoch 88/100\n",
      "1/1 [==============================] - 0s 16ms/step - loss: 1.6893e-06\n",
      "Epoch 89/100\n",
      "1/1 [==============================] - 0s 16ms/step - loss: 1.7023e-06\n",
      "Epoch 90/100\n",
      "1/1 [==============================] - 0s 17ms/step - loss: 2.0366e-06\n",
      "Epoch 91/100\n",
      "1/1 [==============================] - 0s 17ms/step - loss: 2.8027e-06\n",
      "Epoch 92/100\n",
      "1/1 [==============================] - 0s 15ms/step - loss: 4.2650e-06\n",
      "Epoch 93/100\n",
      "1/1 [==============================] - 0s 13ms/step - loss: 5.5191e-06\n",
      "Epoch 94/100\n",
      "1/1 [==============================] - 0s 15ms/step - loss: 5.0343e-06\n",
      "Epoch 95/100\n",
      "1/1 [==============================] - 0s 18ms/step - loss: 3.4275e-06\n",
      "Epoch 96/100\n",
      "1/1 [==============================] - 0s 17ms/step - loss: 2.1638e-06\n",
      "Epoch 97/100\n",
      "1/1 [==============================] - 0s 18ms/step - loss: 1.4714e-06\n",
      "Epoch 98/100\n",
      "1/1 [==============================] - 0s 16ms/step - loss: 1.1876e-06\n",
      "Epoch 99/100\n",
      "1/1 [==============================] - 0s 17ms/step - loss: 1.1678e-06\n",
      "Epoch 100/100\n",
      "1/1 [==============================] - 0s 17ms/step - loss: 1.4197e-06\n"
     ]
    },
    {
     "data": {
      "text/plain": [
       "<keras.callbacks.History at 0x1078ca90>"
      ]
     },
     "execution_count": 14,
     "metadata": {},
     "output_type": "execute_result"
    }
   ],
   "source": [
    "M.train(epochs=100, verbose=1)"
   ]
  },
  {
   "cell_type": "markdown",
   "metadata": {},
   "source": [
    "We can now use the model for making predictions with the `predict()` method. The parameter `denormalized` will return values in the original scale of the data. In our case, US dollars."
   ]
  },
  {
   "cell_type": "code",
   "execution_count": 15,
   "metadata": {},
   "outputs": [
    {
     "data": {
      "text/plain": [
       "array([6739.1294, 6724.405 , 6378.5703, 6262.376 , 6207.931 , 6105.3643,\n",
       "       5768.2573], dtype=float32)"
      ]
     },
     "execution_count": 15,
     "metadata": {},
     "output_type": "execute_result"
    }
   ],
   "source": [
    "M.predict(denormalized=True)"
   ]
  },
  {
   "cell_type": "markdown",
   "metadata": {},
   "source": [
    "We now evaluate our model to inspect the statistics for the last epoch of training compared to a single test week."
   ]
  },
  {
   "cell_type": "code",
   "execution_count": 16,
   "metadata": {},
   "outputs": [
    {
     "data": {
      "text/plain": [
       "{'mape': 6.28, 'mse': 0.0, 'rmse': 525.83}"
      ]
     },
     "execution_count": 16,
     "metadata": {},
     "output_type": "execute_result"
    }
   ],
   "source": [
    "M.evaluate()"
   ]
  },
  {
   "cell_type": "markdown",
   "metadata": {},
   "source": [
    "Finally, we can now save the trained model on disk for later use."
   ]
  },
  {
   "cell_type": "code",
   "execution_count": 17,
   "metadata": {},
   "outputs": [],
   "source": [
    "M.save('/bitcoin_model_prod_v0.h5')"
   ]
  },
  {
   "cell_type": "markdown",
   "metadata": {},
   "source": [
    "Our `Model()` class can also load a previously trained model when instantiated with the `path` parameter."
   ]
  },
  {
   "cell_type": "code",
   "execution_count": 18,
   "metadata": {},
   "outputs": [],
   "source": [
    "M = Model(path='/bitcoin_model_prod_v0.h5',\n",
    "          data=model_data,\n",
    "          variable='close',\n",
    "          predicted_period_size=7)"
   ]
  },
  {
   "cell_type": "code",
   "execution_count": 19,
   "metadata": {},
   "outputs": [
    {
     "data": {
      "text/plain": [
       "array([6739.1294, 6724.405 , 6378.5703, 6262.376 , 6207.931 , 6105.3643,\n",
       "       5768.2573], dtype=float32)"
      ]
     },
     "execution_count": 19,
     "metadata": {},
     "output_type": "execute_result"
    }
   ],
   "source": [
    "M.predict(denormalized=True)"
   ]
  },
  {
   "cell_type": "markdown",
   "metadata": {},
   "source": [
    "### New Data, Re-train Old Model\n",
    "One strategy discussed earlier regards the re-training of our model with new data. In our case, our biggest concern is to shape data in a way that the model has been configured. As an example, we will configure our model to predict a week using 40 weeks. We will first train the model with the first 40 weeks of 2017, then continue to re-train it over the following weeks until we reach week 50."
   ]
  },
  {
   "cell_type": "code",
   "execution_count": 20,
   "metadata": {},
   "outputs": [
    {
     "name": "stdout",
     "output_type": "stream",
     "text": [
      "Number of full weeks: 83\n"
     ]
    }
   ],
   "source": [
    "print('Number of full weeks: {}'.format(len(model_data) // 7))"
   ]
  },
  {
   "cell_type": "markdown",
   "metadata": {},
   "source": [
    "First, let's build a model with the first set of data. Notice how we use `7*40 + 7` as the indexer. This is because we use 40 weeks for training and 1 week for testing. "
   ]
  },
  {
   "cell_type": "code",
   "execution_count": 21,
   "metadata": {},
   "outputs": [
    {
     "name": "stdout",
     "output_type": "stream",
     "text": [
      "[584, 83.42857142857143]\n",
      "[288, 41.142857142857146]\n"
     ]
    }
   ],
   "source": [
    "#######################################\n",
    "# size of original model_data dataframe\n",
    "print([len(model_data), len(model_data)/7])\n",
    "# size of sliced dataframe\n",
    "print([len(model_data[0:(7*40 + 7 + 1)]), len(model_data[0:(7*40 + 7 + 1)])/7])"
   ]
  },
  {
   "cell_type": "code",
   "execution_count": 22,
   "metadata": {},
   "outputs": [],
   "source": [
    "M = Model(data=model_data[0:(7*40 + 7 + 1)],\n",
    "          variable='close',\n",
    "          predicted_period_size=7)"
   ]
  },
  {
   "cell_type": "code",
   "execution_count": 23,
   "metadata": {},
   "outputs": [
    {
     "data": {
      "text/plain": [
       "<keras.models.Sequential at 0xc9041d0>"
      ]
     },
     "execution_count": 23,
     "metadata": {},
     "output_type": "execute_result"
    }
   ],
   "source": [
    "M.build()"
   ]
  },
  {
   "cell_type": "code",
   "execution_count": 24,
   "metadata": {},
   "outputs": [
    {
     "data": {
      "text/plain": [
       "<keras.callbacks.History at 0x11d7cef0>"
      ]
     },
     "execution_count": 24,
     "metadata": {},
     "output_type": "execute_result"
    }
   ],
   "source": [
    "M.train()"
   ]
  },
  {
   "cell_type": "code",
   "execution_count": 25,
   "metadata": {},
   "outputs": [],
   "source": [
    "#\n",
    "#  Complete the range function and\n",
    "#  the model_data filtering parameters\n",
    "#  using an index to split the data in overlapping\n",
    "#  groups of 7 days. Then, re-train our model\n",
    "#  and collect the results.\n",
    "#\n",
    "#  The variables A, B, C, and D are placeholders.\n",
    "#\n",
    "results = []\n",
    "for i in range(0, 1):\n",
    "    M.train(model_data[0:(7*40 + 7 + 1)])\n",
    "    results.append(M.evaluate())"
   ]
  },
  {
   "cell_type": "code",
   "execution_count": 26,
   "metadata": {},
   "outputs": [
    {
     "data": {
      "text/plain": [
       "array([5690.425 , 5869.613 , 5900.2695, 5931.796 , 6675.685 , 6930.4644,\n",
       "       7162.448 ], dtype=float32)"
      ]
     },
     "execution_count": 26,
     "metadata": {},
     "output_type": "execute_result"
    }
   ],
   "source": [
    "M.predict(denormalized=True)"
   ]
  },
  {
   "cell_type": "markdown",
   "metadata": {},
   "source": [
    "### New Data, New Model\n",
    "Another strategy is to create and train a new model evey time new data is available. This approach tends to reduce catastrophic forgetting, but training time increases as data increases. \n",
    "\n",
    "It's implementation is quite simple.\n",
    "\n",
    "Let's assume we have old data for 49 weeks of 2017 and after a week we now have new data. We represent this wtih the variables `old_data` and `new_data`. "
   ]
  },
  {
   "cell_type": "code",
   "execution_count": 27,
   "metadata": {},
   "outputs": [],
   "source": [
    "old_data = model_data[0*7:7*48 + 7 + 1]"
   ]
  },
  {
   "cell_type": "code",
   "execution_count": 28,
   "metadata": {},
   "outputs": [],
   "source": [
    "new_data = model_data[0*7:7*49 + 7 + 1]"
   ]
  },
  {
   "cell_type": "code",
   "execution_count": 29,
   "metadata": {},
   "outputs": [],
   "source": [
    "M = Model(data=old_data,\n",
    "          variable='close',\n",
    "          predicted_period_size=7)"
   ]
  },
  {
   "cell_type": "code",
   "execution_count": 30,
   "metadata": {},
   "outputs": [
    {
     "data": {
      "text/plain": [
       "<keras.callbacks.History at 0x13fa3b00>"
      ]
     },
     "execution_count": 30,
     "metadata": {},
     "output_type": "execute_result"
    }
   ],
   "source": [
    "M.build()\n",
    "M.train()"
   ]
  },
  {
   "cell_type": "code",
   "execution_count": 31,
   "metadata": {},
   "outputs": [
    {
     "data": {
      "text/plain": [
       "array([15419.928, 15863.199, 16237.421, 19407.395, 24318.959, 22523.018,\n",
       "       20626.521], dtype=float32)"
      ]
     },
     "execution_count": 31,
     "metadata": {},
     "output_type": "execute_result"
    }
   ],
   "source": [
    "M.predict(denormalized=True)"
   ]
  },
  {
   "cell_type": "markdown",
   "metadata": {},
   "source": [
    "Now, assume that new data is available. Using this technicle we go ahead and create a new model using only the new data. "
   ]
  },
  {
   "cell_type": "code",
   "execution_count": 32,
   "metadata": {},
   "outputs": [],
   "source": [
    "#\n",
    "#  Re-instantiate the model with the Model()\n",
    "#  class using the new_data variable instead\n",
    "#  of the old_data one. \n",
    "#\n",
    "M = Model(data=new_data[1*7:7*49+7+1],\n",
    "          variable='close',\n",
    "          predicted_period_size=7)"
   ]
  },
  {
   "cell_type": "code",
   "execution_count": 33,
   "metadata": {},
   "outputs": [
    {
     "data": {
      "text/plain": [
       "<keras.callbacks.History at 0x148caf60>"
      ]
     },
     "execution_count": 33,
     "metadata": {},
     "output_type": "execute_result"
    }
   ],
   "source": [
    "M.build()\n",
    "M.train()"
   ]
  },
  {
   "cell_type": "code",
   "execution_count": 34,
   "metadata": {},
   "outputs": [
    {
     "data": {
      "text/plain": [
       "array([19086.01 , 20918.2  , 21627.947, 20273.305, 20531.28 , 21991.209,\n",
       "       24124.64 ], dtype=float32)"
      ]
     },
     "execution_count": 34,
     "metadata": {},
     "output_type": "execute_result"
    }
   ],
   "source": [
    "M.predict(denormalized=True)"
   ]
  },
  {
   "cell_type": "markdown",
   "metadata": {},
   "source": [
    "This approach is very simple to implement and tends to work well. We will be using this to deploy our application."
   ]
  }
 ],
 "metadata": {
  "kernelspec": {
   "display_name": "Python 3",
   "language": "python",
   "name": "python3"
  },
  "language_info": {
   "codemirror_mode": {
    "name": "ipython",
    "version": 3
   },
   "file_extension": ".py",
   "mimetype": "text/x-python",
   "name": "python",
   "nbconvert_exporter": "python",
   "pygments_lexer": "ipython3",
   "version": "3.6.2"
  }
 },
 "nbformat": 4,
 "nbformat_minor": 2
}
